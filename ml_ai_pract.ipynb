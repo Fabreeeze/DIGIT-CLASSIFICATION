{
  "cells": [
    {
      "cell_type": "markdown",
      "metadata": {
        "id": "view-in-github",
        "colab_type": "text"
      },
      "source": [
        "<a href=\"https://colab.research.google.com/github/Fabreeeze/DIGIT-CLASSIFICATION/blob/main/ml_ai_pract.ipynb\" target=\"_parent\"><img src=\"https://colab.research.google.com/assets/colab-badge.svg\" alt=\"Open In Colab\"/></a>"
      ]
    },
    {
      "cell_type": "markdown",
      "metadata": {
        "id": "hq4TkwhuxH2n"
      },
      "source": [
        "Starts here!!\n"
      ]
    },
    {
      "cell_type": "code",
      "execution_count": null,
      "metadata": {
        "id": "_h_SiSNxxM1X"
      },
      "outputs": [],
      "source": [
        "# !unzip -o \"/content/drive/MyDrive/newProjectcollabAIML/archive.zip\" -d \"/content/drive/MyDrive/newProjectcollabAIML/digit identification project/\" \n"
      ]
    },
    {
      "cell_type": "markdown",
      "metadata": {
        "id": "Ot3VyzOCMPjq"
      },
      "source": [
        "Data files Unzipped!!"
      ]
    },
    {
      "cell_type": "code",
      "execution_count": null,
      "metadata": {
        "id": "nO13miujMijM"
      },
      "outputs": [],
      "source": [
        "import numpy as np\n",
        "import pandas as pd\n",
        "import matplotlib.pyplot as plt\n",
        "import tensorflow as tf\n",
        "import tensorflow_hub as hub\n",
        "from matplotlib.pyplot import imread\n",
        "from IPython.display import Image\n",
        "from google.colab import drive\n",
        "from sklearn.model_selection import train_test_split"
      ]
    },
    {
      "cell_type": "code",
      "execution_count": null,
      "metadata": {
        "id": "9OPBM1PtMSOJ",
        "colab": {
          "base_uri": "https://localhost:8080/"
        },
        "outputId": "21f77ecd-52d3-45ae-c674-3e4d9f8eeb70"
      },
      "outputs": [
        {
          "output_type": "stream",
          "name": "stdout",
          "text": [
            "tensorflow version is :  2.9.2\n"
          ]
        }
      ],
      "source": [
        "print(\"tensorflow version is : \",tf.__version__)"
      ]
    },
    {
      "cell_type": "code",
      "execution_count": null,
      "metadata": {
        "id": "MjXDJQCrOCH1",
        "colab": {
          "base_uri": "https://localhost:8080/"
        },
        "outputId": "79a1e293-d140-4110-9c70-39465e4661af"
      },
      "outputs": [
        {
          "output_type": "stream",
          "name": "stdout",
          "text": [
            "tensorflow hub version is :  0.12.0\n"
          ]
        }
      ],
      "source": [
        "print(\"tensorflow hub version is : \",hub.__version__)"
      ]
    },
    {
      "cell_type": "code",
      "execution_count": null,
      "metadata": {
        "id": "XuxOFmAFSkRf",
        "colab": {
          "base_uri": "https://localhost:8080/"
        },
        "outputId": "69da487b-346e-4bd0-e46e-24263037e74e"
      },
      "outputs": [
        {
          "output_type": "stream",
          "name": "stdout",
          "text": [
            "          first_num    second_num\n",
            "count  64000.000000  64000.000000\n",
            "mean       4.359375      4.328125\n",
            "std        2.960002      2.899671\n",
            "min        0.000000      0.000000\n",
            "25%        2.000000      2.000000\n",
            "50%        4.000000      4.000000\n",
            "75%        7.000000      7.000000\n",
            "max        9.000000      9.000000\n",
            "        Image  first_num  second_num\n",
            "0    0_00.png          0           0\n",
            "1  100_00.png          0           0\n",
            "2  101_00.png          0           0\n",
            "3  102_00.png          0           0\n",
            "4  103_00.png          0           0\n"
          ]
        }
      ],
      "source": [
        "labelsCsv=pd.read_csv(\"/content/drive/MyDrive/newProjectcollabAIML/digit identification project/train.csv\")\n",
        "print(labelsCsv.describe())\n",
        "print(labelsCsv.head())"
      ]
    },
    {
      "cell_type": "code",
      "execution_count": null,
      "metadata": {
        "id": "NHQ9i9gGgpSY",
        "colab": {
          "base_uri": "https://localhost:8080/"
        },
        "outputId": "01016cd2-0ac1-46e5-c5e5-5e60f93f35be"
      },
      "outputs": [
        {
          "output_type": "execute_result",
          "data": {
            "text/plain": [
              "1    8000\n",
              "0    7000\n",
              "2    7000\n",
              "7    7000\n",
              "8    7000\n",
              "3    6000\n",
              "5    6000\n",
              "9    6000\n",
              "4    5000\n",
              "6    5000\n",
              "Name: first_num, dtype: int64"
            ]
          },
          "metadata": {},
          "execution_count": 31
        }
      ],
      "source": [
        "labelsCsv[\"first_num\"].value_counts()"
      ]
    },
    {
      "cell_type": "code",
      "execution_count": null,
      "metadata": {
        "id": "yTZF19IlhsOD",
        "colab": {
          "base_uri": "https://localhost:8080/"
        },
        "outputId": "0eec3c5d-4c3b-4ed7-ca38-c627c9162597"
      },
      "outputs": [
        {
          "output_type": "execute_result",
          "data": {
            "text/plain": [
              "1    8000\n",
              "4    8000\n",
              "5    8000\n",
              "0    7000\n",
              "9    7000\n",
              "8    6000\n",
              "3    6000\n",
              "6    5000\n",
              "2    5000\n",
              "7    4000\n",
              "Name: second_num, dtype: int64"
            ]
          },
          "metadata": {},
          "execution_count": 32
        }
      ],
      "source": [
        "labelsCsv[\"second_num\"].value_counts()"
      ]
    },
    {
      "cell_type": "code",
      "execution_count": null,
      "metadata": {
        "id": "NqKMuvEth_tU",
        "colab": {
          "base_uri": "https://localhost:8080/",
          "height": 279
        },
        "outputId": "e47e2dfb-53d6-4e63-bf19-44bc51ee12cb"
      },
      "outputs": [
        {
          "output_type": "execute_result",
          "data": {
            "text/plain": [
              "<function matplotlib.pyplot.show(*args, **kw)>"
            ]
          },
          "metadata": {},
          "execution_count": 33
        },
        {
          "output_type": "display_data",
          "data": {
            "text/plain": [
              "<Figure size 432x288 with 1 Axes>"
            ],
            "image/png": "[encoded data removed]"
          },
          "metadata": {
            "needs_background": "light"
          }
        }
      ],
      "source": [
        "labelsCsv[\"first_num\"].value_counts().plot.bar()\n",
        "plt.show"
      ]
    },
    {
      "cell_type": "code",
      "execution_count": null,
      "metadata": {
        "id": "KiWGzVAPiRVV",
        "colab": {
          "base_uri": "https://localhost:8080/",
          "height": 279
        },
        "outputId": "fdca56b1-fc14-479e-8122-87f8c414dea5"
      },
      "outputs": [
        {
          "output_type": "execute_result",
          "data": {
            "text/plain": [
              "<matplotlib.axes._subplots.AxesSubplot at 0x7f1891193e10>"
            ]
          },
          "metadata": {},
          "execution_count": 34
        },
        {
          "output_type": "display_data",
          "data": {
            "text/plain": [
              "<Figure size 432x288 with 1 Axes>"
            ],
            "image/png": "[encoded data removed]"
          },
          "metadata": {
            "needs_background": "light"
          }
        }
      ],
      "source": [
        "labelsCsv[\"second_num\"].value_counts().plot.bar()"
      ]
    },
    {
      "cell_type": "code",
      "execution_count": null,
      "metadata": {
        "id": "VDACiqVuinAH",
        "colab": {
          "base_uri": "https://localhost:8080/"
        },
        "outputId": "f97a719f-d653-4998-b8b4-c18df236b4e9"
      },
      "outputs": [
        {
          "output_type": "execute_result",
          "data": {
            "text/plain": [
              "6500.0"
            ]
          },
          "metadata": {},
          "execution_count": 35
        }
      ],
      "source": [
        "labelsCsv[\"first_num\"].value_counts().median()"
      ]
    },
    {
      "cell_type": "code",
      "execution_count": null,
      "metadata": {
        "id": "kQKyIjK_izOh",
        "colab": {
          "base_uri": "https://localhost:8080/"
        },
        "outputId": "b32d4044-06a1-49d9-869b-1bb3c10899e5"
      },
      "outputs": [
        {
          "output_type": "execute_result",
          "data": {
            "text/plain": [
              "6500.0"
            ]
          },
          "metadata": {},
          "execution_count": 36
        }
      ],
      "source": [
        "labelsCsv[\"second_num\"].value_counts().median()"
      ]
    },
    {
      "cell_type": "code",
      "execution_count": null,
      "metadata": {
        "id": "906Us2zni53U",
        "colab": {
          "base_uri": "https://localhost:8080/",
          "height": 81
        },
        "outputId": "67327778-f88c-4ed9-fef3-da12f3088905"
      },
      "outputs": [
        {
          "output_type": "execute_result",
          "data": {
            "image/png": "[encoded data removed]",
            "text/plain": [
              "<IPython.core.display.Image object>"
            ]
          },
          "metadata": {},
          "execution_count": 37
        }
      ],
      "source": [
        "\n",
        "Image(\"/content/drive/MyDrive/newProjectcollabAIML/digit identification project/train_images/705_31.png\")"
      ]
    },
    {
      "cell_type": "code",
      "execution_count": null,
      "metadata": {
        "id": "QB8tV7ljdjjY"
      },
      "outputs": [],
      "source": [
        "imgNames=[\"/content/drive/MyDrive/newProjectcollabAIML/digit identification project/train_images/\" + i for i in labelsCsv[\"Image\"]]\n",
        "#imgNames"
      ]
    },
    {
      "cell_type": "code",
      "execution_count": null,
      "metadata": {
        "id": "CNC9qRMTFLpc",
        "colab": {
          "base_uri": "https://localhost:8080/"
        },
        "outputId": "d2d36c43-1357-40ed-fa0c-79f14a21a56c"
      },
      "outputs": [
        {
          "output_type": "stream",
          "name": "stdout",
          "text": [
            "Drive already mounted at /content/drive; to attempt to forcibly remount, call drive.mount(\"/content/drive\", force_remount=True).\n"
          ]
        }
      ],
      "source": [
        "drive.mount('/content/drive')"
      ]
    },
    {
      "cell_type": "code",
      "execution_count": null,
      "metadata": {
        "id": "YZ_x8GTue45S",
        "colab": {
          "base_uri": "https://localhost:8080/"
        },
        "outputId": "c9b89b26-9f80-456a-eaee-35193865fa1d"
      },
      "outputs": [
        {
          "output_type": "execute_result",
          "data": {
            "text/plain": [
              "array([0, 0, 0, ..., 9, 9, 9])"
            ]
          },
          "metadata": {},
          "execution_count": 40
        }
      ],
      "source": [
        "nums1Names=labelsCsv[\"first_num\"]\n",
        "nums1Names=np.array(nums1Names)\n",
        "\n",
        "nums2Names=labelsCsv[\"second_num\"]\n",
        "nums2Names=np.array(nums2Names)\n",
        "\n",
        "nums1Names"
      ]
    },
    {
      "cell_type": "code",
      "source": [
        "nums2Names"
      ],
      "metadata": {
        "colab": {
          "base_uri": "https://localhost:8080/"
        },
        "id": "wVeysg1q3Wd3",
        "outputId": "8b6cc559-8e02-4124-fa53-bb6dd1f0a73b"
      },
      "execution_count": null,
      "outputs": [
        {
          "output_type": "execute_result",
          "data": {
            "text/plain": [
              "array([0, 0, 0, ..., 8, 8, 8])"
            ]
          },
          "metadata": {},
          "execution_count": 41
        }
      ]
    },
    {
      "cell_type": "code",
      "execution_count": null,
      "metadata": {
        "id": "dbV-bM9tJrjQ",
        "colab": {
          "base_uri": "https://localhost:8080/"
        },
        "outputId": "c4640bf8-42a1-4070-8455-663ffda3b42b"
      },
      "outputs": [
        {
          "output_type": "execute_result",
          "data": {
            "text/plain": [
              "array([0, 1, 2, 3, 4, 5, 6, 7, 8, 9])"
            ]
          },
          "metadata": {},
          "execution_count": 42
        }
      ],
      "source": [
        "uniqueNums=np.unique(nums1Names)\n",
        "uniqueNums"
      ]
    },
    {
      "cell_type": "code",
      "execution_count": null,
      "metadata": {
        "id": "SkLCVmIuKqaJ",
        "colab": {
          "base_uri": "https://localhost:8080/"
        },
        "outputId": "3254e0b3-2a97-4215-c607-22686135a49c"
      },
      "outputs": [
        {
          "output_type": "stream",
          "name": "stdout",
          "text": [
            "64000\n",
            "6\n"
          ]
        }
      ],
      "source": [
        "print(len(nums1Names))\n",
        "print(nums1Names[40000])"
      ]
    },
    {
      "cell_type": "code",
      "source": [
        "uniqueNums=np.unique(nums2Names)\n",
        "uniqueNums"
      ],
      "metadata": {
        "colab": {
          "base_uri": "https://localhost:8080/"
        },
        "id": "gVR4pybw3jh5",
        "outputId": "bbd8a0fb-bb79-4464-e916-74020deb0cc4"
      },
      "execution_count": null,
      "outputs": [
        {
          "output_type": "execute_result",
          "data": {
            "text/plain": [
              "array([0, 1, 2, 3, 4, 5, 6, 7, 8, 9])"
            ]
          },
          "metadata": {},
          "execution_count": 44
        }
      ]
    },
    {
      "cell_type": "code",
      "execution_count": null,
      "metadata": {
        "id": "2_Qv83Z_KwNK",
        "colab": {
          "base_uri": "https://localhost:8080/"
        },
        "outputId": "65c2e259-9898-4545-afcb-b6787112a148"
      },
      "outputs": [
        {
          "output_type": "execute_result",
          "data": {
            "text/plain": [
              "array([False, False, False, False, False, False,  True, False, False,\n",
              "       False])"
            ]
          },
          "metadata": {},
          "execution_count": 45
        }
      ],
      "source": [
        "nums1Names[40000]==uniqueNums"
      ]
    },
    {
      "cell_type": "code",
      "source": [
        "nums2Names[40000]==uniqueNums"
      ],
      "metadata": {
        "colab": {
          "base_uri": "https://localhost:8080/"
        },
        "id": "Gs6shh_63n_L",
        "outputId": "11db3277-f247-4ae2-bcdf-4bace11020b2"
      },
      "execution_count": null,
      "outputs": [
        {
          "output_type": "execute_result",
          "data": {
            "text/plain": [
              "array([False, False,  True, False, False, False, False, False, False,\n",
              "       False])"
            ]
          },
          "metadata": {},
          "execution_count": 46
        }
      ]
    },
    {
      "cell_type": "code",
      "execution_count": null,
      "metadata": {
        "id": "vqhrlu7qLFSh",
        "colab": {
          "base_uri": "https://localhost:8080/"
        },
        "outputId": "f38cc1c1-e6fa-458b-b915-d34bfce029ac"
      },
      "outputs": [
        {
          "output_type": "execute_result",
          "data": {
            "text/plain": [
              "[array([ True, False, False, False, False, False, False, False, False,\n",
              "        False]),\n",
              " array([ True, False, False, False, False, False, False, False, False,\n",
              "        False]),\n",
              " array([ True, False, False, False, False, False, False, False, False,\n",
              "        False]),\n",
              " array([ True, False, False, False, False, False, False, False, False,\n",
              "        False]),\n",
              " array([ True, False, False, False, False, False, False, False, False,\n",
              "        False]),\n",
              " array([ True, False, False, False, False, False, False, False, False,\n",
              "        False]),\n",
              " array([ True, False, False, False, False, False, False, False, False,\n",
              "        False]),\n",
              " array([ True, False, False, False, False, False, False, False, False,\n",
              "        False]),\n",
              " array([ True, False, False, False, False, False, False, False, False,\n",
              "        False]),\n",
              " array([ True, False, False, False, False, False, False, False, False,\n",
              "        False])]"
            ]
          },
          "metadata": {},
          "execution_count": 47
        }
      ],
      "source": [
        "bool_num1=[num==uniqueNums for num in nums1Names]\n",
        "bool_num1[:10]"
      ]
    },
    {
      "cell_type": "code",
      "source": [
        "bool_num2=[num==uniqueNums for num in nums2Names]\n",
        "bool_num2[:10]"
      ],
      "metadata": {
        "colab": {
          "base_uri": "https://localhost:8080/"
        },
        "id": "SR38XaWo3z7k",
        "outputId": "3b8de8c0-e20b-4060-a931-200c5386bdf8"
      },
      "execution_count": null,
      "outputs": [
        {
          "output_type": "execute_result",
          "data": {
            "text/plain": [
              "[array([ True, False, False, False, False, False, False, False, False,\n",
              "        False]),\n",
              " array([ True, False, False, False, False, False, False, False, False,\n",
              "        False]),\n",
              " array([ True, False, False, False, False, False, False, False, False,\n",
              "        False]),\n",
              " array([ True, False, False, False, False, False, False, False, False,\n",
              "        False]),\n",
              " array([ True, False, False, False, False, False, False, False, False,\n",
              "        False]),\n",
              " array([ True, False, False, False, False, False, False, False, False,\n",
              "        False]),\n",
              " array([ True, False, False, False, False, False, False, False, False,\n",
              "        False]),\n",
              " array([ True, False, False, False, False, False, False, False, False,\n",
              "        False]),\n",
              " array([ True, False, False, False, False, False, False, False, False,\n",
              "        False]),\n",
              " array([ True, False, False, False, False, False, False, False, False,\n",
              "        False])]"
            ]
          },
          "metadata": {},
          "execution_count": 48
        }
      ]
    },
    {
      "cell_type": "code",
      "execution_count": null,
      "metadata": {
        "id": "boLmwQYrBPdo"
      },
      "outputs": [],
      "source": [
        "#bool_num1[:10:-1]"
      ]
    },
    {
      "cell_type": "code",
      "execution_count": null,
      "metadata": {
        "id": "oXVbUA78QcrJ",
        "colab": {
          "base_uri": "https://localhost:8080/"
        },
        "outputId": "2b588b85-97a5-4092-b4e9-8666880dbfcc"
      },
      "outputs": [
        {
          "output_type": "stream",
          "name": "stdout",
          "text": [
            "[1 0 0 0 0 0 0 0 0 0]\n",
            "[1 0 0 0 0 0 0 0 0 0]\n",
            "[1 0 0 0 0 0 0 0 0 0]\n",
            "[1 0 0 0 0 0 0 0 0 0]\n",
            "[1 0 0 0 0 0 0 0 0 0]\n",
            "[1 0 0 0 0 0 0 0 0 0]\n",
            "[1 0 0 0 0 0 0 0 0 0]\n",
            "[1 0 0 0 0 0 0 0 0 0]\n",
            "[1 0 0 0 0 0 0 0 0 0]\n",
            "[1 0 0 0 0 0 0 0 0 0]\n"
          ]
        }
      ],
      "source": [
        "for i in (bool_num1[:10]):\n",
        "  print(i.astype(int))"
      ]
    },
    {
      "cell_type": "code",
      "execution_count": null,
      "metadata": {
        "id": "nM08yGylRI4X",
        "colab": {
          "base_uri": "https://localhost:8080/"
        },
        "outputId": "7ba12b53-adaf-4d7f-8325-5826f7631407"
      },
      "outputs": [
        {
          "output_type": "execute_result",
          "data": {
            "text/plain": [
              "64000"
            ]
          },
          "metadata": {},
          "execution_count": 51
        }
      ],
      "source": [
        "x=imgNames\n",
        "y1=[i.astype(int) for i in bool_num2]\n",
        "y2=bool_num2\n",
        "len(imgNames)"
      ]
    },
    {
      "cell_type": "code",
      "execution_count": null,
      "metadata": {
        "id": "sFSX-WgczRUt",
        "colab": {
          "base_uri": "https://localhost:8080/"
        },
        "outputId": "51a22db6-b19a-4eca-99e2-745e40d78371"
      },
      "outputs": [
        {
          "output_type": "execute_result",
          "data": {
            "text/plain": [
              "64000"
            ]
          },
          "metadata": {},
          "execution_count": 52
        }
      ],
      "source": [
        "len(x)"
      ]
    },
    {
      "cell_type": "code",
      "execution_count": null,
      "metadata": {
        "id": "u0cfi6qYzSQj"
      },
      "outputs": [],
      "source": [
        "numImg=29000 #@param {type:\"slider\",min:1000, max:64000,step:1000}"
      ]
    },
    {
      "cell_type": "code",
      "execution_count": null,
      "metadata": {
        "id": "ioiGY5nA6H9F",
        "colab": {
          "base_uri": "https://localhost:8080/"
        },
        "outputId": "76550e12-a2d3-4c5e-d6af-1af5a7a08a75"
      },
      "outputs": [
        {
          "output_type": "execute_result",
          "data": {
            "text/plain": [
              "(44800, 19200, 44800, 19200)"
            ]
          },
          "metadata": {},
          "execution_count": 55
        }
      ],
      "source": [
        "xTr, xVal, yTr, yVal=train_test_split(x[:numImg],nums1Names[:numImg],test_size=0.3,random_state=200)\n",
        "len(xTr),len(yVal),len(yTr),len(yVal)"
      ]
    },
    {
      "cell_type": "code",
      "execution_count": null,
      "metadata": {
        "id": "__dSxQLh_t29",
        "colab": {
          "base_uri": "https://localhost:8080/"
        },
        "outputId": "0a9e1132-4940-4e1d-ac11-2888220ac430"
      },
      "outputs": [
        {
          "output_type": "execute_result",
          "data": {
            "text/plain": [
              "('/content/drive/MyDrive/newProjectcollabAIML/digit identification project/train_images/113_42.png',\n",
              " 4)"
            ]
          },
          "metadata": {},
          "execution_count": 56
        }
      ],
      "source": [
        "xTr[690],yTr[690]\n",
        "#xVal[690]"
      ]
    },
    {
      "cell_type": "code",
      "source": [
        "j=0\n",
        "for i in range(len(x)):\n",
        "  print(x[len(x)-i-1])\n",
        "  j+=1\n",
        "  if(j>=10):\n",
        "    break"
      ],
      "metadata": {
        "id": "82lFKcaXwsGi"
      },
      "execution_count": null,
      "outputs": []
    },
    {
      "cell_type": "markdown",
      "metadata": {
        "id": "6ni4XptDErIv"
      },
      "source": [
        "Now we turn imgs into tensors!!!"
      ]
    },
    {
      "cell_type": "code",
      "execution_count": null,
      "metadata": {
        "id": "qsE20yUKEtwh",
        "colab": {
          "base_uri": "https://localhost:8080/"
        },
        "outputId": "1d25b2e5-5630-4f4b-d7df-9f861f33fb35"
      },
      "outputs": [
        {
          "output_type": "execute_result",
          "data": {
            "text/plain": [
              "array([[0., 0., 0., ..., 0., 0., 0.],\n",
              "       [0., 0., 0., ..., 0., 0., 0.],\n",
              "       [0., 0., 0., ..., 0., 0., 0.],\n",
              "       ...,\n",
              "       [0., 0., 0., ..., 0., 0., 0.],\n",
              "       [0., 0., 0., ..., 0., 0., 0.],\n",
              "       [0., 0., 0., ..., 0., 0., 0.]], dtype=float32)"
            ]
          },
          "metadata": {},
          "execution_count": 57
        }
      ],
      "source": [
        "im1=imread(imgNames[50000])\n",
        "im1"
      ]
    },
    {
      "cell_type": "code",
      "execution_count": null,
      "metadata": {
        "id": "4gBc7vfwGtq7",
        "colab": {
          "base_uri": "https://localhost:8080/"
        },
        "outputId": "0320ca7b-f0ba-49b8-e30b-39b43ca9fa14"
      },
      "outputs": [
        {
          "output_type": "execute_result",
          "data": {
            "text/plain": [
              "(64, 64)"
            ]
          },
          "metadata": {},
          "execution_count": 58
        }
      ],
      "source": [
        "im1.shape"
      ]
    },
    {
      "cell_type": "code",
      "execution_count": null,
      "metadata": {
        "id": "7_HW_IW0H3mg",
        "colab": {
          "base_uri": "https://localhost:8080/",
          "height": 35
        },
        "outputId": "4ce72313-ed10-4c1f-c3a3-bd3c3b07ad18"
      },
      "outputs": [
        {
          "output_type": "execute_result",
          "data": {
            "text/plain": [
              "'/content/drive/MyDrive/newProjectcollabAIML/digit identification project/train_images/0_79.png'"
            ],
            "application/vnd.google.colaboratory.intrinsic+json": {
              "type": "string"
            }
          },
          "metadata": {},
          "execution_count": 59
        }
      ],
      "source": [
        "imgNames[50000]"
      ]
    },
    {
      "cell_type": "code",
      "execution_count": null,
      "metadata": {
        "id": "OtKwCRYeH5Tf",
        "colab": {
          "base_uri": "https://localhost:8080/",
          "height": 81
        },
        "outputId": "94f2023f-433c-4201-fac2-c4075de68806"
      },
      "outputs": [
        {
          "output_type": "execute_result",
          "data": {
            "image/png": "[encoded data removed]",
            "text/plain": [
              "<IPython.core.display.Image object>"
            ]
          },
          "metadata": {},
          "execution_count": 60
        }
      ],
      "source": [
        "Image(imgNames[50000])"
      ]
    },
    {
      "cell_type": "code",
      "execution_count": null,
      "metadata": {
        "id": "xqkxKeDZIIeW",
        "colab": {
          "base_uri": "https://localhost:8080/"
        },
        "outputId": "280b7c97-5cb1-4499-aa35-fd459cc71ee8"
      },
      "outputs": [
        {
          "output_type": "execute_result",
          "data": {
            "text/plain": [
              "(1.0, 0.0)"
            ]
          },
          "metadata": {},
          "execution_count": 61
        }
      ],
      "source": [
        "im1.max(),im1.min()"
      ]
    },
    {
      "cell_type": "markdown",
      "metadata": {
        "id": "O95nCxwkJC2C"
      },
      "source": [
        "\n",
        "\n",
        "\n",
        "**Next step converts image to tensors**\n",
        "\n",
        "\n",
        "\n"
      ]
    },
    {
      "cell_type": "code",
      "execution_count": null,
      "metadata": {
        "id": "b6lCCRA9JI4i",
        "colab": {
          "base_uri": "https://localhost:8080/"
        },
        "outputId": "b011e2dc-f363-43fd-dc3c-b6c38ed567e2"
      },
      "outputs": [
        {
          "output_type": "execute_result",
          "data": {
            "text/plain": [
              "<tf.Tensor: shape=(64, 64), dtype=float32, numpy=\n",
              "array([[0., 0., 0., ..., 0., 0., 0.],\n",
              "       [0., 0., 0., ..., 0., 0., 0.],\n",
              "       [0., 0., 0., ..., 0., 0., 0.],\n",
              "       ...,\n",
              "       [0., 0., 0., ..., 0., 0., 0.],\n",
              "       [0., 0., 0., ..., 0., 0., 0.],\n",
              "       [0., 0., 0., ..., 0., 0., 0.]], dtype=float32)>"
            ]
          },
          "metadata": {},
          "execution_count": 62
        }
      ],
      "source": [
        "tf.constant(im1)"
      ]
    },
    {
      "cell_type": "code",
      "execution_count": null,
      "metadata": {
        "id": "s8m-HebUJRCh",
        "colab": {
          "base_uri": "https://localhost:8080/"
        },
        "outputId": "3965a410-3129-456c-beaa-ea4f82c9f23e"
      },
      "outputs": [
        {
          "output_type": "execute_result",
          "data": {
            "text/plain": [
              "(1.0, 0.0)"
            ]
          },
          "metadata": {},
          "execution_count": 63
        }
      ],
      "source": [
        "trial1=np.array(tf.constant(im1)[29:40])\n",
        "trial1.max(),trial1.min()"
      ]
    },
    {
      "cell_type": "code",
      "execution_count": null,
      "metadata": {
        "id": "jLbBQf3CJUF-"
      },
      "outputs": [],
      "source": [
        "#tf.constant(im1)[29:40]"
      ]
    },
    {
      "cell_type": "code",
      "execution_count": null,
      "metadata": {
        "id": "7PkySCMiKeQB"
      },
      "outputs": [],
      "source": [
        "img_size=224"
      ]
    },
    {
      "cell_type": "markdown",
      "metadata": {
        "id": "t_uJHwqoLS_7"
      },
      "source": [
        "now we try to process our image data into the required shape and size format for image processing, we aim for 224x224 sized images\n",
        "\n",
        "\n",
        "so now we define a funtion to upscale/downscale images"
      ]
    },
    {
      "cell_type": "code",
      "execution_count": null,
      "metadata": {
        "id": "puMMdIcILkT1"
      },
      "outputs": [],
      "source": [
        "def convertinImages(imgAddress,iSize=img_size):\n",
        "  #converts file to a tensor in string form\n",
        "  imgName=tf.compat.as_str_any(imgAddress)\n",
        "  dataImage=tf.io.read_file(imgName)\n",
        "\n",
        "  #makes image data in form of 0-255 rgb(when channel=3) values of colours\n",
        "  dataImage=tf.image.decode_png(dataImage,channels=3)\n",
        "\n",
        "  #now we do normalisation, i.e. convert image in tensor form from above output\n",
        "  #containg pixel values from 0-255 into 0-1 values\n",
        "  dataImage=tf.image.convert_image_dtype(dataImage,tf.float32)\n",
        "\n",
        "  #now we resize image\n",
        "  dataImage=tf.image.resize(dataImage,size=[iSize,iSize])\n",
        "  return dataImage\n"
      ]
    },
    {
      "cell_type": "code",
      "execution_count": null,
      "metadata": {
        "id": "_TwURsCbPBDs",
        "colab": {
          "base_uri": "https://localhost:8080/"
        },
        "outputId": "90010e1e-a3c6-4cef-f939-7e60ffb75575"
      },
      "outputs": [
        {
          "output_type": "execute_result",
          "data": {
            "text/plain": [
              "('/content/drive/MyDrive/newProjectcollabAIML/digit identification project/train_images/0_62.png',\n",
              " <tf.Tensor: shape=(), dtype=string, numpy=b'\\x89PNG\\r\\n\\x1a\\n\\x00\\x00\\x00\\rIHDR\\x00\\x00\\x00@\\x00\\x00\\x00@\\x08\\x00\\x00\\x00\\x00\\x8f\\x02.\\x02\\x00\\x00\\x01\\xc4IDATx\\xda\\xed\\x96?H[Q\\x18\\xc5O4D\\x89&\\xfe#T\\x14\\tV4(\\x14\\xc1\\xa1\\xd0-R\\xc1I\\x11+E\\x1d\\xa4\\x83\\x83\\x98\\xa1CU\\xd0R\\x9a\\xa1\\x8b\\xe0f\\x17\\x87fS\\x07)\\x15\\x15Qb\\xa7v{\\xf0P\\xda\\x86\\x04Q\\xe19t\\x10E-V\\x12\\xfdN;X\\xac\\x83\\x11\\xdf\\xbd\\x93\\xf8\\xcet\\xef\\xbb\\x9c\\xdf\\xfb\\xee\\xf7\\x07.\\xe0\\xc8\\x91#GwR]&96\\xeaSt\\xb7\\x99fZD(\\xc7\\xd1\\x07W>\\xbbo\\rp7\\xc6sM\\xc0\\xd5S\\xf0\\xe6\\xd13\\x95\\x08|\\xa1\\x82\\x00\\x00DE\\xb6kT\"\\xf8\\x95\\xc2\\t\\x00\\xf8\\x81\\xd5-\\xf5<V\\x8ddd\\xda\\xaf\\xee\\x0f&)\\xa9ju\\x7fnL8\\xe7\\xd5\\xf8\\x7fL$\\xe2\\xd1\\xb8\\x7fRdY\\xa7\\x11\\xd7\\xc8\\x88\\x8e?\\x9c\\x919\\x8f\\x0e`XR\\xd7\\xe4/\\xc7\\xc6(\\xe1\\xfc\\xb7\\x16\\xe0z\\xd9\\x00\\xec^\\xae\\x8a\\xd4Z\\xb1E\\x8e\\xc2\\x00J\\xeb\\xa7\\xbe\\xc4T\\x86\\t?\\x12\\rC\\xd6[\\x84B\\xa7\\x93\\x1bj\\xd7]\\x12\\x11\\xf9\\xb3\\xd2T\\x92\\xe5\\xbc\\xf8\\xab\\xd5\\x7f#\\xa0\\xe2\\x9b\\x88\\x8cfo\\x85\\xd7\\xe4\\x07\\xad*4\\xc3\\xb5\\xa9S\\xd0\\xca}\\xfe\\x0c\\xe8D\\x10.\\x81\\xb9\\xa7\\x03\\xe8\\x00,\\xad\\x9e<!\\xdb5\\x01\\xfb\\x95\\x9a\\xb3\\xe0\\xab\\xd3\\x04\\xb8}Z\\x80\\x8f@}^\\x7f\\xdc0\\x0c\\xa3O)\\x071r\\xe7\\x80\\x17\\xca\\xbc\\xbf\\xf5\\xc0\\xfe\\x9f\\xc6| \\x88\\xbd\\xcfH4\\x04\\x9f\\xb8\\x07w\\xc7mG\\x10%\\xb9R\\x0e\\x00\\x9eV\\x83g\\xbd\\xb6\\x01\\xb5$\\xb7f/\\xd6/\\xc9\\t\\xdb\\x80\\x87ir\\xa0\\x0c\\x00\\xf2\\xdf\\x9d\\xf2\\xf0\\xb9\\xfd,\\xbeHs\\xa6\\x1c\\xc0\\xd3O$\\x95\\x9e\\x10\\x16i\\xbeZ\\xdc$\\xe5{O\\xa1\\n\\xc0\\xbb\\xfc\\xaf\\x8a\\xf36L\\xae\\xab\\x1b\\x7f\\xe7\\xe3\\xee\\xf5$\\x16\\xe2\\xe2\\xbcH\\xef\\x99\\xfe\\x02\\x19\\xb9\\xab\\xa0\\x8f\\xf0\\r\\x95\\x00\\x00\\x00\\x00IEND\\xaeB`\\x82'>)"
            ]
          },
          "metadata": {},
          "execution_count": 67
        }
      ],
      "source": [
        "example1=tf.io.read_file(imgNames[40000])\n",
        "imgNames[40000],example1"
      ]
    },
    {
      "cell_type": "code",
      "execution_count": null,
      "metadata": {
        "id": "8BjTcGPVPXhS",
        "colab": {
          "base_uri": "https://localhost:8080/"
        },
        "outputId": "be39eeb1-c48b-4cca-9088-5324c82abc29"
      },
      "outputs": [
        {
          "output_type": "execute_result",
          "data": {
            "text/plain": [
              "<tf.Tensor: shape=(1, 64, 3), dtype=uint8, numpy=\n",
              "array([[[  0,   0,   0],\n",
              "        [  0,   0,   0],\n",
              "        [  0,   0,   0],\n",
              "        [  0,   0,   0],\n",
              "        [  0,   0,   0],\n",
              "        [  0,   0,   0],\n",
              "        [  0,   0,   0],\n",
              "        [  0,   0,   0],\n",
              "        [  0,   0,   0],\n",
              "        [  0,   0,   0],\n",
              "        [  0,   0,   0],\n",
              "        [  0,   0,   0],\n",
              "        [  0,   0,   0],\n",
              "        [  0,   0,   0],\n",
              "        [  0,   0,   0],\n",
              "        [  0,   0,   0],\n",
              "        [  0,   0,   0],\n",
              "        [  0,   0,   0],\n",
              "        [  0,   0,   0],\n",
              "        [  0,   0,   0],\n",
              "        [  0,   0,   0],\n",
              "        [  0,   0,   0],\n",
              "        [  0,   0,   0],\n",
              "        [  0,   0,   0],\n",
              "        [  0,   0,   0],\n",
              "        [  0,   0,   0],\n",
              "        [  0,   0,   0],\n",
              "        [  0,   0,   0],\n",
              "        [  0,   0,   0],\n",
              "        [  0,   0,   0],\n",
              "        [  0,   0,   0],\n",
              "        [  0,   0,   0],\n",
              "        [  0,   0,   0],\n",
              "        [  0,   0,   0],\n",
              "        [  0,   0,   0],\n",
              "        [  0,   0,   0],\n",
              "        [  0,   0,   0],\n",
              "        [  0,   0,   0],\n",
              "        [  0,   0,   0],\n",
              "        [  0,   0,   0],\n",
              "        [  0,   0,   0],\n",
              "        [  0,   0,   0],\n",
              "        [172, 172, 172],\n",
              "        [253, 253, 253],\n",
              "        [213, 213, 213],\n",
              "        [  0,   0,   0],\n",
              "        [  0,   0,   0],\n",
              "        [  0,   0,   0],\n",
              "        [  0,   0,   0],\n",
              "        [  0,   0,   0],\n",
              "        [  0,   0,   0],\n",
              "        [  0,   0,   0],\n",
              "        [ 15,  15,  15],\n",
              "        [ 14,  14,  14],\n",
              "        [  0,   0,   0],\n",
              "        [  0,   0,   0],\n",
              "        [  0,   0,   0],\n",
              "        [  0,   0,   0],\n",
              "        [  0,   0,   0],\n",
              "        [  0,   0,   0],\n",
              "        [  0,   0,   0],\n",
              "        [  0,   0,   0],\n",
              "        [  0,   0,   0],\n",
              "        [  0,   0,   0]]], dtype=uint8)>"
            ]
          },
          "metadata": {},
          "execution_count": 68
        }
      ],
      "source": [
        "example2=tf.image.decode_png(example1,channels=3)\n",
        "example2[33:34]\n",
        "#found by hit and trial on ranges between 1 and 64\n"
      ]
    },
    {
      "cell_type": "code",
      "execution_count": null,
      "metadata": {
        "id": "iCAYRvqMS4HU",
        "colab": {
          "base_uri": "https://localhost:8080/"
        },
        "outputId": "c358565a-03e1-4ef6-819b-b54d2ea7d406"
      },
      "outputs": [
        {
          "output_type": "execute_result",
          "data": {
            "text/plain": [
              "<tf.Tensor: shape=(1, 64, 3), dtype=float32, numpy=\n",
              "array([[[0.        , 0.        , 0.        ],\n",
              "        [0.        , 0.        , 0.        ],\n",
              "        [0.        , 0.        , 0.        ],\n",
              "        [0.        , 0.        , 0.        ],\n",
              "        [0.        , 0.        , 0.        ],\n",
              "        [0.        , 0.        , 0.        ],\n",
              "        [0.        , 0.        , 0.        ],\n",
              "        [0.        , 0.        , 0.        ],\n",
              "        [0.        , 0.        , 0.        ],\n",
              "        [0.        , 0.        , 0.        ],\n",
              "        [0.        , 0.        , 0.        ],\n",
              "        [0.        , 0.        , 0.        ],\n",
              "        [0.        , 0.        , 0.        ],\n",
              "        [0.        , 0.        , 0.        ],\n",
              "        [0.        , 0.        , 0.        ],\n",
              "        [0.        , 0.        , 0.        ],\n",
              "        [0.        , 0.        , 0.        ],\n",
              "        [0.        , 0.        , 0.        ],\n",
              "        [0.        , 0.        , 0.        ],\n",
              "        [0.        , 0.        , 0.        ],\n",
              "        [0.        , 0.        , 0.        ],\n",
              "        [0.        , 0.        , 0.        ],\n",
              "        [0.        , 0.        , 0.        ],\n",
              "        [0.        , 0.        , 0.        ],\n",
              "        [0.        , 0.        , 0.        ],\n",
              "        [0.        , 0.        , 0.        ],\n",
              "        [0.        , 0.        , 0.        ],\n",
              "        [0.        , 0.        , 0.        ],\n",
              "        [0.        , 0.        , 0.        ],\n",
              "        [0.        , 0.        , 0.        ],\n",
              "        [0.        , 0.        , 0.        ],\n",
              "        [0.        , 0.        , 0.        ],\n",
              "        [0.        , 0.        , 0.        ],\n",
              "        [0.        , 0.        , 0.        ],\n",
              "        [0.        , 0.        , 0.        ],\n",
              "        [0.        , 0.        , 0.        ],\n",
              "        [0.        , 0.        , 0.        ],\n",
              "        [0.        , 0.        , 0.        ],\n",
              "        [0.        , 0.        , 0.        ],\n",
              "        [0.        , 0.        , 0.        ],\n",
              "        [0.        , 0.        , 0.        ],\n",
              "        [0.        , 0.        , 0.        ],\n",
              "        [0.6745098 , 0.6745098 , 0.6745098 ],\n",
              "        [0.9921569 , 0.9921569 , 0.9921569 ],\n",
              "        [0.8352942 , 0.8352942 , 0.8352942 ],\n",
              "        [0.        , 0.        , 0.        ],\n",
              "        [0.        , 0.        , 0.        ],\n",
              "        [0.        , 0.        , 0.        ],\n",
              "        [0.        , 0.        , 0.        ],\n",
              "        [0.        , 0.        , 0.        ],\n",
              "        [0.        , 0.        , 0.        ],\n",
              "        [0.        , 0.        , 0.        ],\n",
              "        [0.05882353, 0.05882353, 0.05882353],\n",
              "        [0.05490196, 0.05490196, 0.05490196],\n",
              "        [0.        , 0.        , 0.        ],\n",
              "        [0.        , 0.        , 0.        ],\n",
              "        [0.        , 0.        , 0.        ],\n",
              "        [0.        , 0.        , 0.        ],\n",
              "        [0.        , 0.        , 0.        ],\n",
              "        [0.        , 0.        , 0.        ],\n",
              "        [0.        , 0.        , 0.        ],\n",
              "        [0.        , 0.        , 0.        ],\n",
              "        [0.        , 0.        , 0.        ],\n",
              "        [0.        , 0.        , 0.        ]]], dtype=float32)>"
            ]
          },
          "metadata": {},
          "execution_count": 69
        }
      ],
      "source": [
        "example3=tf.image.convert_image_dtype(example2,tf.float32)\n",
        "example3[33:34]"
      ]
    },
    {
      "cell_type": "markdown",
      "metadata": {
        "id": "C_jQu0yZiw89"
      },
      "source": [
        "explanations of the defined functions end here"
      ]
    },
    {
      "cell_type": "markdown",
      "metadata": {
        "id": "Mht4ne78i0Vj"
      },
      "source": [
        "\n",
        "\n",
        "\n",
        ".\n",
        "\n",
        "\n",
        "\n",
        "\n",
        "\n",
        "\n",
        "\n",
        "\n",
        "."
      ]
    },
    {
      "cell_type": "markdown",
      "metadata": {
        "id": "UrDGCuufKqSt"
      },
      "source": [
        "Making batches from data"
      ]
    },
    {
      "cell_type": "markdown",
      "metadata": {
        "id": "WYUYudS3LLVu"
      },
      "source": [
        "i.e. we use small portions of data(images) and their labels at a time, generally 32 images at a time\n",
        "\n",
        "32 here will be the batch size\n",
        "\n",
        "\n",
        "we make the system look for patter n those 32 sets of images and then again for next 32 sets of images and so on\n",
        "makes the process consume less memory(RAM) and also makes it easier to wok on large data as it focuses on patterns from a group of data rather than idividual data, thereby reducing errors from individual data elements"
      ]
    },
    {
      "cell_type": "markdown",
      "metadata": {
        "id": "7BX_C5oYL2Jc"
      },
      "source": [
        "we use tensor tuples in tensorflow which is in for of (image in form of tensos, label)"
      ]
    },
    {
      "cell_type": "code",
      "execution_count": null,
      "metadata": {
        "id": "APYD7M4xL9Jv"
      },
      "outputs": [],
      "source": [
        "#function to return tuple of tensors\n",
        "\n",
        "def getLabel(imgAddress,numName):\n",
        "  img=convertinImages(imgAddress,img_size)\n",
        "  return img,numName\n",
        "  "
      ]
    },
    {
      "cell_type": "code",
      "execution_count": null,
      "metadata": {
        "id": "wnBO0N0uNVLN",
        "colab": {
          "base_uri": "https://localhost:8080/"
        },
        "outputId": "fc158456-8a88-4b23-868f-0f72c3faf14e"
      },
      "outputs": [
        {
          "output_type": "execute_result",
          "data": {
            "text/plain": [
              "(<tf.Tensor: shape=(224, 224, 3), dtype=float32, numpy=\n",
              " array([[[0., 0., 0.],\n",
              "         [0., 0., 0.],\n",
              "         [0., 0., 0.],\n",
              "         ...,\n",
              "         [0., 0., 0.],\n",
              "         [0., 0., 0.],\n",
              "         [0., 0., 0.]],\n",
              " \n",
              "        [[0., 0., 0.],\n",
              "         [0., 0., 0.],\n",
              "         [0., 0., 0.],\n",
              "         ...,\n",
              "         [0., 0., 0.],\n",
              "         [0., 0., 0.],\n",
              "         [0., 0., 0.]],\n",
              " \n",
              "        [[0., 0., 0.],\n",
              "         [0., 0., 0.],\n",
              "         [0., 0., 0.],\n",
              "         ...,\n",
              "         [0., 0., 0.],\n",
              "         [0., 0., 0.],\n",
              "         [0., 0., 0.]],\n",
              " \n",
              "        ...,\n",
              " \n",
              "        [[0., 0., 0.],\n",
              "         [0., 0., 0.],\n",
              "         [0., 0., 0.],\n",
              "         ...,\n",
              "         [0., 0., 0.],\n",
              "         [0., 0., 0.],\n",
              "         [0., 0., 0.]],\n",
              " \n",
              "        [[0., 0., 0.],\n",
              "         [0., 0., 0.],\n",
              "         [0., 0., 0.],\n",
              "         ...,\n",
              "         [0., 0., 0.],\n",
              "         [0., 0., 0.],\n",
              "         [0., 0., 0.]],\n",
              " \n",
              "        [[0., 0., 0.],\n",
              "         [0., 0., 0.],\n",
              "         [0., 0., 0.],\n",
              "         ...,\n",
              "         [0., 0., 0.],\n",
              "         [0., 0., 0.],\n",
              "         [0., 0., 0.]]], dtype=float32)>,\n",
              " <tf.Tensor: shape=(10,), dtype=int64, numpy=array([0, 0, 1, 0, 0, 0, 0, 0, 0, 0])>)"
            ]
          },
          "metadata": {},
          "execution_count": 71
        }
      ],
      "source": [
        "(convertinImages(x[40000],img_size),tf.constant(y1[40000]))"
      ]
    },
    {
      "cell_type": "code",
      "execution_count": null,
      "metadata": {
        "id": "0vYKueCAN2NY",
        "colab": {
          "base_uri": "https://localhost:8080/",
          "height": 35
        },
        "outputId": "ca55fb2d-9455-4d34-e061-99b084c06b6c"
      },
      "outputs": [
        {
          "output_type": "execute_result",
          "data": {
            "text/plain": [
              "'/content/drive/MyDrive/newProjectcollabAIML/digit identification project/train_images/0_62.png'"
            ],
            "application/vnd.google.colaboratory.intrinsic+json": {
              "type": "string"
            }
          },
          "metadata": {},
          "execution_count": 72
        }
      ],
      "source": [
        "x[40000]"
      ]
    },
    {
      "cell_type": "markdown",
      "metadata": {
        "id": "KRCQy90YPOKK"
      },
      "source": [
        "we can now make data into tensor tuples like(image,label)\n",
        "\n",
        "now we turn all our data, x and y, into batches "
      ]
    },
    {
      "cell_type": "code",
      "execution_count": null,
      "metadata": {
        "id": "jmqqM8XNPaBC"
      },
      "outputs": [],
      "source": [
        "batchSize=32 #32 is default, we can change it depending on our need and future changes in data\n",
        "\n",
        "def MakeDataBatch(x,y=None,batch_size=batchSize,valid_data=False,testData=False):\n",
        "  # now we make batches of data from x(image) and y(labels) pairs\n",
        "  # if its taining data, it shuffles the data but doesnt shuffle if its validationd data\n",
        "  #also accepts test data as input, thts where we take y=none as it wont have labels, as we r supposed to guess the labels for it\n",
        "\n",
        "  if(testData):\n",
        "    print(\"creating data batches..\")\n",
        "    data=tf.data.Dataset.from_tensor_slices((tf.constant(x)))\n",
        "    dataBatch=data.map(convertinImages).batch(batch_size) \n",
        "    #applies the convertinImages function to all elements in data (mapping) with batchsize of consecutive elements of 32\n",
        "\n",
        "    #like 0 to 8 in 3 batches gets divided as 0 1 2, 3 4 5 ,6 7 8\n",
        "    return dataBatch \n",
        "  elif(valid_data):\n",
        "    print(\"creating valid data batches....\")\n",
        "    data=tf.data.Dataset.from_tensor_slices((tf.constant(x),#making filepaths and labels into tensors\n",
        "                                             tf.constant(y)))\n",
        "    dataBatch=data.map(getLabel).batch(batch_size)#creates image, label into tuples, also turns image path into preprocessed image\n",
        "    return dataBatch\n",
        "  else:\n",
        "    print(\"Creating training databatches.......\")\n",
        "    data=tf.data.Dataset.from_tensor_slices((tf.constant(x)),\n",
        "                                            (tf.constant(y)))\n",
        "    #now we shuffle filepaths and labels\n",
        "    data=data.shuffle(buffer_size=len(x))  #buffer_seze=len(x) shffles entire dataset ,buffer_size=300 only shuffles first 300 data\n",
        "\n",
        "    dataBatch=data.map(getLabel).batch(batch_size)\n",
        "    \n",
        "    return dataBatch"
      ]
    },
    {
      "cell_type": "code",
      "source": [
        "# data=tf.data.Dataset.from_tensor_slices( (tf.constant(xTr)), (tf.constant((yTr)) ) )\n",
        "# data"
      ],
      "metadata": {
        "id": "mTjs4MCH-HM_"
      },
      "execution_count": null,
      "outputs": []
    },
    {
      "cell_type": "code",
      "source": [
        "# j=0\n",
        "# for i in data:\n",
        "#   print(i)\n",
        "#   j+=1\n",
        "#   if(j>2):\n",
        "#     break"
      ],
      "metadata": {
        "id": "LY_xBBXW-Qn1"
      },
      "execution_count": null,
      "outputs": []
    },
    {
      "cell_type": "code",
      "source": [
        "# tensor1 = tf.range(12)\n",
        "# tensor1"
      ],
      "metadata": {
        "id": "OO7eNWVNjR4V"
      },
      "execution_count": null,
      "outputs": []
    },
    {
      "cell_type": "code",
      "source": [
        "# dataset = tf.data.Dataset.from_tensor_slices(tensor1)\n",
        "# print(dataset)\n"
      ],
      "metadata": {
        "id": "9fKxzBnVjXte"
      },
      "execution_count": null,
      "outputs": []
    },
    {
      "cell_type": "code",
      "source": [
        "# dataset=data.batch(4)\n",
        "# dataset"
      ],
      "metadata": {
        "id": "TxVkdq8X-xjq"
      },
      "execution_count": null,
      "outputs": []
    },
    {
      "cell_type": "code",
      "source": [
        "# j=0\n",
        "# for i in dataset:\n",
        "#   print(i)\n",
        "#   print(\"batch end\")\n",
        "#   j+=1\n",
        "#   if(j>2):\n",
        "#     break"
      ],
      "metadata": {
        "id": "kF71h5Fr_KrA"
      },
      "execution_count": null,
      "outputs": []
    },
    {
      "cell_type": "code",
      "execution_count": 1,
      "metadata": {
        "id": "UXteNPUVQ1cA"
      },
      "outputs": [],
      "source": [
        "#  #testing above function \n",
        "\n",
        "# trainData=MakeDataBatch(xTr,yTr)\n",
        "# validData=MakeDataBatch(xVal,yVal,valid_data=True)\n",
        "\n",
        "# #if we get \"creating .......\" line, it works"
      ]
    },
    {
      "cell_type": "code",
      "execution_count": null,
      "metadata": {
        "id": "etDzyOVa2UCD"
      },
      "outputs": [],
      "source": [
        "trainData.element_spec"
      ]
    },
    {
      "cell_type": "code",
      "execution_count": null,
      "metadata": {
        "id": "8inrltZe4BMk"
      },
      "outputs": [],
      "source": [
        "validData.element_spec"
      ]
    },
    {
      "cell_type": "code",
      "execution_count": null,
      "metadata": {
        "id": "fIUu86lM4D1j"
      },
      "outputs": [],
      "source": [
        "#second line output showing shape=(none,10) means batch size is none(even though it is 32, but it shows none coz its flexible)\n",
        "# and 10 is the size of labels which is 10 coz we have 10 unique labels"
      ]
    },
    {
      "cell_type": "code",
      "execution_count": null,
      "metadata": {
        "id": "Qi4zJE-R4uPK"
      },
      "outputs": [],
      "source": [
        "# plt.hist(yTr)"
      ]
    },
    {
      "cell_type": "markdown",
      "metadata": {
        "id": "asiNHFdCJ0Ry"
      },
      "source": [
        "Visualisation of data batches "
      ]
    },
    {
      "cell_type": "code",
      "execution_count": null,
      "metadata": {
        "id": "fWNFj8YqJ5rS"
      },
      "outputs": [],
      "source": [
        "#def View20Imgs(imgs,labels):\n",
        "plt.figure(figsize=(10,10))\n",
        "for imgs in trainData:\n",
        "  for i in range(20):\n",
        "    plt.subplot(5,4,i+1)\n",
        "    plt.imshow(imgs[i].numpy().astype(\"uint8\"))\n",
        "\n"
      ]
    },
    {
      "cell_type": "code",
      "execution_count": null,
      "metadata": {
        "id": "0otZZnzFKw-3"
      },
      "outputs": [],
      "source": [
        "#  uniqueNums[y1[40000].argmax()],y1[60000]"
      ]
    },
    {
      "cell_type": "code",
      "execution_count": null,
      "metadata": {
        "id": "nbmO_XYFKy9p"
      },
      "outputs": [],
      "source": [
        "\n",
        " # train_Img,train_Label = list(trainData)\n",
        "xTr[0],yTr[0]"
      ]
    },
    {
      "cell_type": "code",
      "execution_count": null,
      "metadata": {
        "id": "iEuB6BsTM4rR"
      },
      "outputs": [],
      "source": [
        "xTr, yTr =next(iter(trainData))\n",
        "xTr,yTr"
      ]
    },
    {
      "cell_type": "code",
      "source": [
        "inputShape=[None,img_size,img_size,3]  #batch, ht, wdt, colors\n",
        "\n",
        "outputShape=len(uniqueNums)\n"
      ],
      "metadata": {
        "id": "zAha0f8K4-Vx"
      },
      "execution_count": null,
      "outputs": []
    }
  ],
  "metadata": {
    "colab": {
      "provenance": [],
      "mount_file_id": "1vWbqbi0-dUJEnEmNBGfSwYGpyUHJBssC",
      "authorship_tag": "ABX9TyMrCKnLJVLM7pdIE29FDtxB",
      "include_colab_link": true
    },
    "kernelspec": {
      "display_name": "Python 3",
      "name": "python3"
    },
    "language_info": {
      "name": "python"
    },
    "gpuClass": "standard"
  },
  "nbformat": 4,
  "nbformat_minor": 0
}